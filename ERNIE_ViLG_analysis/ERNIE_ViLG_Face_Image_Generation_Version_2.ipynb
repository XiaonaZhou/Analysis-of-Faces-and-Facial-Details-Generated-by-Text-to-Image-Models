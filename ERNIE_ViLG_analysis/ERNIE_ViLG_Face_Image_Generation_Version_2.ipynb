{
 "cells": [
  {
   "cell_type": "markdown",
   "id": "09c0bd36",
   "metadata": {},
   "source": [
    "### In this notebook, I first generate faces using captions from COCO dataset using ERNIE-ViLG, and then, I using face detector to extract faces from the images generated. "
   ]
  },
  {
   "cell_type": "code",
   "execution_count": null,
   "id": "4e4d0217",
   "metadata": {},
   "outputs": [],
   "source": [
    "#!pip install translators --upgrade"
   ]
  },
  {
   "cell_type": "markdown",
   "id": "97d68120",
   "metadata": {},
   "source": [
    "Load caption data"
   ]
  },
  {
   "cell_type": "code",
   "execution_count": null,
   "id": "c75b74bb",
   "metadata": {},
   "outputs": [],
   "source": [
    "import paddlehub as hub\n",
    "import translators as ts\n",
    "lines = open('face_captions.txt').read().splitlines()"
   ]
  },
  {
   "cell_type": "code",
   "execution_count": null,
   "id": "8e33336c",
   "metadata": {},
   "outputs": [],
   "source": [
    "import random\n",
    "random.seed(42)\n",
    "#Generate 1000 random numbers between 0 and 9999\n",
    "# I plan to generate about 600 images, but may need to come back generate more if some of the images do not contain a good face\n",
    "randomlist = random.sample(range(0, 9999), 1100)"
   ]
  },
  {
   "cell_type": "code",
   "execution_count": null,
   "id": "0b374842",
   "metadata": {},
   "outputs": [],
   "source": [
    "len(randomlist)"
   ]
  },
  {
   "cell_type": "code",
   "execution_count": null,
   "id": "accbf28a",
   "metadata": {},
   "outputs": [],
   "source": [
    "randomlist[:10]"
   ]
  },
  {
   "cell_type": "markdown",
   "id": "f4eb9eff",
   "metadata": {},
   "source": [
    "Start generating face images"
   ]
  },
  {
   "cell_type": "code",
   "execution_count": null,
   "id": "f217931f",
   "metadata": {
    "scrolled": false
   },
   "outputs": [],
   "source": [
    "import paddlehub as hub\n",
    "import translators as ts\n",
    "module = hub.Module(name=\"ernie_vilg\")\n",
    "for i in range(500, 600):\n",
    "    prompt = ts.baidu(lines[randomlist[i]] + 'showing front face, like a photo in real life', professional_field='common')\n",
    "    try: # for certain prompts, error message \"暂不支持创作该内容，请修改后再试 (does not support this prompt, please modify)\" was returned\n",
    "        module.generate_image(text_prompts=prompt, style='写实风格',  output_dir='./generated_face_images_with_ERNIE-ViLG_version_2/',topk=1)\n",
    "        print(i)      \n",
    "    except:\n",
    "        continue"
   ]
  },
  {
   "cell_type": "code",
   "execution_count": null,
   "id": "2598d67c",
   "metadata": {},
   "outputs": [],
   "source": [
    "i"
   ]
  },
  {
   "cell_type": "markdown",
   "id": "272ed425",
   "metadata": {},
   "source": [
    "extract faces from the generated face images "
   ]
  },
  {
   "cell_type": "code",
   "execution_count": null,
   "id": "9b43a791",
   "metadata": {},
   "outputs": [],
   "source": [
    "#set up folders for extracted faces \n",
    "# initialize COCO API for instance annotations\n",
    "import os\n",
    "dataDir = './'\n",
    "\n",
    "image_folder = \"extracted_generated_faces_version2\"\n",
    "\n",
    "savedirimage = dataDir + image_folder\n",
    "\n",
    "\n",
    "\n",
    "if not os.path.exists(savedirimage):\n",
    "\tos.makedirs(savedirimage)"
   ]
  },
  {
   "cell_type": "code",
   "execution_count": null,
   "id": "484ffcb9",
   "metadata": {},
   "outputs": [],
   "source": [
    "# install all packages\n",
    "!pip install keras\n",
    "!pip install tensorflow\n",
    "from keras.models import load_model\n",
    "!pip install mtcnn\n",
    "# confirm mtcnn was installed correctly\n",
    "import mtcnn\n",
    "# print version\n",
    "print(mtcnn.__version__)\n",
    "\n",
    "import numpy as np\n",
    "from mtcnn.mtcnn import MTCNN\n",
    "from numpy import asarray\n",
    "from PIL import Image\n",
    "import matplotlib.pyplot as plt\n",
    "\n",
    "\n",
    "# Simple python package to shut up Tensorflow warnings and logs.\n",
    "!pip install silence_tensorflow\n",
    "import silence_tensorflow.auto"
   ]
  },
  {
   "cell_type": "markdown",
   "id": "306b8f53",
   "metadata": {},
   "source": [
    "I did not use threshold as filtering criteria because this will gaurantee low FID score later. I still kept the dimension requirement. "
   ]
  },
  {
   "cell_type": "code",
   "execution_count": null,
   "id": "d5d69bbd",
   "metadata": {},
   "outputs": [],
   "source": [
    "# extract a single face from a given photograph\n",
    "def extract_face(filename, index, required_size=(250, 250)):\n",
    "    # load image from file\n",
    "    image = Image.open(filename)\n",
    "    # convert to RGB, if needed\n",
    "    image = image.convert('RGB')\n",
    "    # convert to array\n",
    "    pixels = np.asarray(image)\n",
    "    # create the detector, using default weights\n",
    "    detector = MTCNN()\n",
    "    # detect faces in the image\n",
    "    results = detector.detect_faces(pixels)\n",
    "    # extract the bounding box from the first face\n",
    "    if len(results) >=1:\n",
    "        x1, y1, width, height = results[0]['box']\n",
    "        if height-width>=15:\n",
    "            # bug fix\n",
    "            x1, y1 = abs(x1), abs(y1)\n",
    "            x2, y2 = x1 + width, y1 + height\n",
    "            # extract the face\n",
    "            face = pixels[y1:y2, x1:x2]\n",
    "            # resize pixels to the model size\n",
    "            image = Image.fromarray(face)\n",
    "            image = image.resize(required_size)\n",
    "            face_array = np.asarray(image)\n",
    "            plt.imsave(os.path.join(savedirimage, 'face_img_{}.jpg'.format(index)),face_array)\n",
    "            return True\n",
    "    return False"
   ]
  },
  {
   "cell_type": "code",
   "execution_count": null,
   "id": "b5b1d557",
   "metadata": {},
   "outputs": [],
   "source": [
    "files = os.listdir('generated_face_images_with_ERNIE-ViLG_version_2/')"
   ]
  },
  {
   "cell_type": "code",
   "execution_count": null,
   "id": "7bc45f15",
   "metadata": {},
   "outputs": [],
   "source": [
    "len(files)"
   ]
  },
  {
   "cell_type": "code",
   "execution_count": null,
   "id": "e97ee111",
   "metadata": {},
   "outputs": [],
   "source": [
    "index =0\n",
    "for file in files:\n",
    "    try:\n",
    "        if extract_face(os.path.join('./generated_face_images_with_ERNIE-ViLG_version_2/',file), index = index):\n",
    "            print(index)\n",
    "            index+=1\n",
    "    except:\n",
    "        None"
   ]
  },
  {
   "cell_type": "markdown",
   "id": "32cb5edc",
   "metadata": {},
   "source": [
    "Combine to one folder"
   ]
  },
  {
   "cell_type": "code",
   "execution_count": null,
   "id": "c77941c8",
   "metadata": {},
   "outputs": [],
   "source": [
    "img_path = 'filtered_generated_face/'\n",
    "files = os.listdir('filtered_generated_face/')\n",
    "\n",
    "import os\n",
    "dataDir = './'\n",
    "\n",
    "image_folder = 'combined_filtered_generated_faces'\n",
    "\n",
    "savedirimage = dataDir + image_folder\n",
    "\n",
    "if not os.path.exists(savedirimage):\n",
    "    os.makedirs(savedirimage)"
   ]
  },
  {
   "cell_type": "code",
   "execution_count": null,
   "id": "6b97d6a5",
   "metadata": {},
   "outputs": [],
   "source": [
    "import cv2\n",
    "count = 495\n",
    "for f_name in files:\n",
    "    image = cv2.imread(os.path.join(img_path,f_name))\n",
    "    cv2.imwrite(os.path.join(savedirimage, 'face_img_{}.jpg'.format(count)), image)\n",
    "    count+=1"
   ]
  },
  {
   "cell_type": "code",
   "execution_count": null,
   "id": "5f69e2f3",
   "metadata": {},
   "outputs": [],
   "source": [
    "count"
   ]
  },
  {
   "cell_type": "markdown",
   "id": "e88065b8",
   "metadata": {},
   "source": [
    "resize to 100x100"
   ]
  },
  {
   "cell_type": "code",
   "execution_count": 1,
   "id": "e83e7d8c",
   "metadata": {},
   "outputs": [],
   "source": [
    "import os\n",
    "import numpy as np\n",
    "from numpy import asarray\n",
    "import matplotlib.pyplot as plt\n",
    "from PIL import Image\n",
    "img_path = '../extracted_faces_from_COCO/'\n",
    "files = os.listdir('../extracted_faces_from_COCO/')\n",
    "\n",
    "dataDir = './'\n",
    "\n",
    "image_folder = 'extracted_face_from_COCO_100_by_100/'\n",
    "\n",
    "savedirimage = dataDir + image_folder\n",
    "\n",
    "if not os.path.exists(savedirimage):\n",
    "    os.makedirs(savedirimage)"
   ]
  },
  {
   "cell_type": "code",
   "execution_count": 2,
   "id": "9b137d21",
   "metadata": {},
   "outputs": [
    {
     "data": {
      "text/plain": [
       "10000"
      ]
     },
     "execution_count": 2,
     "metadata": {},
     "output_type": "execute_result"
    }
   ],
   "source": [
    "len(files)"
   ]
  },
  {
   "cell_type": "code",
   "execution_count": 3,
   "id": "afa1b16a",
   "metadata": {},
   "outputs": [],
   "source": [
    "import cv2\n",
    "count = 0\n",
    "for f_name in files:\n",
    "    #print(f_name)\n",
    "    image = Image.open(os.path.join(img_path,f_name))\n",
    "    # convert to RGB, if needed\n",
    "    image = image.convert('RGB')\n",
    "    # convert to array\n",
    "    pixels = np.asarray(image)\n",
    "    image = Image.fromarray(pixels)\n",
    "    image = image.resize((100,100))\n",
    "    face_array = np.asarray(image)\n",
    "    plt.imsave(os.path.join(savedirimage, 'face_img_{}.jpg'.format(count)),face_array)\n",
    "    count+=1"
   ]
  },
  {
   "cell_type": "code",
   "execution_count": 14,
   "id": "d1c89d80",
   "metadata": {},
   "outputs": [],
   "source": [
    "image = cv2.imread(os.path.join('combined_filtered_generated_faces_100_by_100/','face_img_0.jpg'))"
   ]
  },
  {
   "cell_type": "markdown",
   "id": "3d753e38",
   "metadata": {},
   "source": [
    "Testing out [mediaPipe](https://google.github.io/mediapipe/solutions/face_detection.html)"
   ]
  },
  {
   "cell_type": "code",
   "execution_count": null,
   "id": "baa080e3",
   "metadata": {},
   "outputs": [],
   "source": [
    "!pip install mediapipe"
   ]
  },
  {
   "cell_type": "code",
   "execution_count": null,
   "id": "8be81d3c",
   "metadata": {},
   "outputs": [],
   "source": [
    "import cv2\n",
    "import mediapipe as mp\n",
    "mp_face_detection = mp.solutions.face_detection\n",
    "mp_drawing = mp.solutions.drawing_utils\n",
    "\n",
    "# For static images:\n",
    "IMAGE_FILES = ['ERNIE_ViLG_Good_face_4.png']\n",
    "with mp_face_detection.FaceDetection(model_selection=1, min_detection_confidence=0.5) as face_detection:\n",
    "    for idx, file in enumerate(IMAGE_FILES):\n",
    "        image = cv2.imread(file)\n",
    "        # Convert the BGR image to RGB and process it with MediaPipe Face Detection.\n",
    "        results = face_detection.process(cv2.cvtColor(image, cv2.COLOR_BGR2RGB))\n",
    "\n",
    "        # Draw face detections of each face.\n",
    "        if not results.detections:\n",
    "            continue\n",
    "        annotated_image = image.copy()\n",
    "        for detection in results.detections:\n",
    "            print('Nose tip:')\n",
    "            print(mp_face_detection.get_key_point(detection, mp_face_detection.FaceKeyPoint.NOSE_TIP))\n",
    "            mp_drawing.draw_detection(annotated_image, detection)\n",
    "        cv2.imwrite('annotated_image' + str(idx) + '.png', annotated_image)"
   ]
  },
  {
   "cell_type": "code",
   "execution_count": null,
   "id": "952a5382",
   "metadata": {},
   "outputs": [],
   "source": [
    "results"
   ]
  },
  {
   "cell_type": "code",
   "execution_count": null,
   "id": "e35b652f",
   "metadata": {},
   "outputs": [],
   "source": [
    "results.detections\n"
   ]
  },
  {
   "cell_type": "code",
   "execution_count": null,
   "id": "a7f1773c",
   "metadata": {},
   "outputs": [],
   "source": []
  }
 ],
 "metadata": {
  "kernelspec": {
   "display_name": "Python 3 (ipykernel)",
   "language": "python",
   "name": "python3"
  },
  "language_info": {
   "codemirror_mode": {
    "name": "ipython",
    "version": 3
   },
   "file_extension": ".py",
   "mimetype": "text/x-python",
   "name": "python",
   "nbconvert_exporter": "python",
   "pygments_lexer": "ipython3",
   "version": "3.8.15"
  }
 },
 "nbformat": 4,
 "nbformat_minor": 5
}
